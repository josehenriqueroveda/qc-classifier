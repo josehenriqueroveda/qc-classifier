{
 "cells": [
  {
   "cell_type": "markdown",
   "metadata": {},
   "source": [
    "## Quality Complaints Classification\n",
    "\n",
    "ML model to classify whether a quality complaint is valid or not."
   ]
  },
  {
   "cell_type": "code",
   "execution_count": 4,
   "metadata": {},
   "outputs": [],
   "source": [
    "import pandas as pd\n",
    "import category_encoders as ce\n",
    "from sklearn.model_selection import train_test_split\n",
    "\n",
    "from helpers import constants\n",
    "\n",
    "pd.set_option('display.max_columns', None)"
   ]
  },
  {
   "cell_type": "markdown",
   "metadata": {},
   "source": [
    "### EDA"
   ]
  },
  {
   "cell_type": "code",
   "execution_count": 5,
   "metadata": {},
   "outputs": [],
   "source": [
    "df = pd.read_csv('db/dataset-qc.csv', sep=';', usecols=constants.COLUMNS)"
   ]
  },
  {
   "cell_type": "code",
   "execution_count": 6,
   "metadata": {},
   "outputs": [
    {
     "data": {
      "text/html": [
       "<div>\n",
       "<style scoped>\n",
       "    .dataframe tbody tr th:only-of-type {\n",
       "        vertical-align: middle;\n",
       "    }\n",
       "\n",
       "    .dataframe tbody tr th {\n",
       "        vertical-align: top;\n",
       "    }\n",
       "\n",
       "    .dataframe thead th {\n",
       "        text-align: right;\n",
       "    }\n",
       "</style>\n",
       "<table border=\"1\" class=\"dataframe\">\n",
       "  <thead>\n",
       "    <tr style=\"text-align: right;\">\n",
       "      <th></th>\n",
       "      <th>brand</th>\n",
       "      <th>hybrid</th>\n",
       "      <th>batch</th>\n",
       "      <th>sieve</th>\n",
       "      <th>treatment</th>\n",
       "      <th>reason</th>\n",
       "      <th>result</th>\n",
       "      <th>quantity</th>\n",
       "      <th>city</th>\n",
       "      <th>state</th>\n",
       "      <th>germination</th>\n",
       "    </tr>\n",
       "  </thead>\n",
       "  <tbody>\n",
       "    <tr>\n",
       "      <th>0</th>\n",
       "      <td>0</td>\n",
       "      <td>0</td>\n",
       "      <td>0</td>\n",
       "      <td>0</td>\n",
       "      <td>0</td>\n",
       "      <td>Insect Attack</td>\n",
       "      <td>0</td>\n",
       "      <td>20.0</td>\n",
       "      <td>0</td>\n",
       "      <td>MG</td>\n",
       "      <td>98.0</td>\n",
       "    </tr>\n",
       "    <tr>\n",
       "      <th>1</th>\n",
       "      <td>0</td>\n",
       "      <td>1</td>\n",
       "      <td>1</td>\n",
       "      <td>1</td>\n",
       "      <td>1</td>\n",
       "      <td>Insect Attack</td>\n",
       "      <td>0</td>\n",
       "      <td>3.0</td>\n",
       "      <td>1</td>\n",
       "      <td>MS</td>\n",
       "      <td>99.0</td>\n",
       "    </tr>\n",
       "    <tr>\n",
       "      <th>2</th>\n",
       "      <td>0</td>\n",
       "      <td>1</td>\n",
       "      <td>2</td>\n",
       "      <td>1</td>\n",
       "      <td>2</td>\n",
       "      <td>Insect Attack</td>\n",
       "      <td>0</td>\n",
       "      <td>27.0</td>\n",
       "      <td>1</td>\n",
       "      <td>MS</td>\n",
       "      <td>99.0</td>\n",
       "    </tr>\n",
       "    <tr>\n",
       "      <th>3</th>\n",
       "      <td>0</td>\n",
       "      <td>2</td>\n",
       "      <td>3</td>\n",
       "      <td>2</td>\n",
       "      <td>2</td>\n",
       "      <td>Insect Attack</td>\n",
       "      <td>0</td>\n",
       "      <td>382.0</td>\n",
       "      <td>2</td>\n",
       "      <td>MT</td>\n",
       "      <td>99.0</td>\n",
       "    </tr>\n",
       "    <tr>\n",
       "      <th>4</th>\n",
       "      <td>0</td>\n",
       "      <td>3</td>\n",
       "      <td>4</td>\n",
       "      <td>3</td>\n",
       "      <td>2</td>\n",
       "      <td>Insect Attack</td>\n",
       "      <td>0</td>\n",
       "      <td>100.0</td>\n",
       "      <td>2</td>\n",
       "      <td>MT</td>\n",
       "      <td>99.0</td>\n",
       "    </tr>\n",
       "  </tbody>\n",
       "</table>\n",
       "</div>"
      ],
      "text/plain": [
       "   brand  hybrid  batch  sieve  treatment         reason  result  quantity  \\\n",
       "0      0       0      0      0          0  Insect Attack       0      20.0   \n",
       "1      0       1      1      1          1  Insect Attack       0       3.0   \n",
       "2      0       1      2      1          2  Insect Attack       0      27.0   \n",
       "3      0       2      3      2          2  Insect Attack       0     382.0   \n",
       "4      0       3      4      3          2  Insect Attack       0     100.0   \n",
       "\n",
       "   city state  germination  \n",
       "0     0    MG         98.0  \n",
       "1     1    MS         99.0  \n",
       "2     1    MS         99.0  \n",
       "3     2    MT         99.0  \n",
       "4     2    MT         99.0  "
      ]
     },
     "execution_count": 6,
     "metadata": {},
     "output_type": "execute_result"
    }
   ],
   "source": [
    "df.head()"
   ]
  },
  {
   "cell_type": "code",
   "execution_count": 7,
   "metadata": {},
   "outputs": [
    {
     "name": "stdout",
     "output_type": "stream",
     "text": [
      "<class 'pandas.core.frame.DataFrame'>\n",
      "RangeIndex: 2584 entries, 0 to 2583\n",
      "Data columns (total 11 columns):\n",
      " #   Column       Non-Null Count  Dtype  \n",
      "---  ------       --------------  -----  \n",
      " 0   brand        2584 non-null   int64  \n",
      " 1   hybrid       2584 non-null   int64  \n",
      " 2   batch        2584 non-null   int64  \n",
      " 3   sieve        2584 non-null   int64  \n",
      " 4   treatment    2584 non-null   int64  \n",
      " 5   reason       2584 non-null   object \n",
      " 6   result       2584 non-null   int64  \n",
      " 7   quantity     2547 non-null   float64\n",
      " 8   city         2584 non-null   int64  \n",
      " 9   state        2515 non-null   object \n",
      " 10  germination  2097 non-null   float64\n",
      "dtypes: float64(2), int64(7), object(2)\n",
      "memory usage: 222.2+ KB\n"
     ]
    }
   ],
   "source": [
    "df.info()"
   ]
  },
  {
   "cell_type": "code",
   "execution_count": null,
   "metadata": {},
   "outputs": [],
   "source": []
  }
 ],
 "metadata": {
  "kernelspec": {
   "display_name": "qc-classifier-vWPRSw0R-py3.11",
   "language": "python",
   "name": "python3"
  },
  "language_info": {
   "codemirror_mode": {
    "name": "ipython",
    "version": 3
   },
   "file_extension": ".py",
   "mimetype": "text/x-python",
   "name": "python",
   "nbconvert_exporter": "python",
   "pygments_lexer": "ipython3",
   "version": "3.11.4"
  }
 },
 "nbformat": 4,
 "nbformat_minor": 2
}
